{
 "cells": [
  {
   "cell_type": "code",
   "execution_count": null,
   "metadata": {
    "collapsed": true
   },
   "outputs": [],
   "source": [
    "#####################################\n",
    "#   Dataset - Titanic Data          #\n",
    "#####################################\n",
    "\n",
    "# Titanic Data - Contains demographics and passenger information from 891 of the 2224 passengers and crew on board \n",
    "# the Titanic. "
   ]
  },
  {
   "cell_type": "code",
   "execution_count": null,
   "metadata": {
    "collapsed": true
   },
   "outputs": [],
   "source": []
  },
  {
   "cell_type": "code",
   "execution_count": null,
   "metadata": {
    "collapsed": true
   },
   "outputs": [],
   "source": [
    "#####################################\n",
    "#            Questions              #\n",
    "#####################################\n",
    "# Are the following factors significiant to survival? sex, pclass, age, sibsp, parch, fare, cabin?\n"
   ]
  },
  {
   "cell_type": "code",
   "execution_count": null,
   "metadata": {
    "collapsed": true
   },
   "outputs": [],
   "source": []
  },
  {
   "cell_type": "code",
   "execution_count": null,
   "metadata": {
    "collapsed": true
   },
   "outputs": [],
   "source": [
    "#####################################\n",
    "#          Analysize Data           #\n",
    "#####################################"
   ]
  },
  {
   "cell_type": "code",
   "execution_count": 2,
   "metadata": {
    "collapsed": false
   },
   "outputs": [
    {
     "name": "stdout",
     "output_type": "stream",
     "text": [
      "0.383838383838\n"
     ]
    }
   ],
   "source": [
    "import csv as csv\n",
    "import numpy as np\n",
    "\n",
    "csv_file_object = csv.reader(open('../csv/train.csv', 'rb')) \n",
    "header = csv_file_object.next()\n",
    "\n",
    "data = []\n",
    "for row in csv_file_object:\n",
    "    data.append(row)\n",
    "    \n",
    "data = np.array(data)\n",
    "\n",
    "number_passengers = np.size(data[0::, 1].astype(np.float))\n",
    "number_survived = np.sum(data[0::, 1].astype(np.float))\n",
    "proportion_survivors = number_survived / number_passengers\n",
    "print proportion_survivors\n",
    "\n"
   ]
  },
  {
   "cell_type": "code",
   "execution_count": 3,
   "metadata": {
    "collapsed": false
   },
   "outputs": [
    {
     "name": "stdout",
     "output_type": "stream",
     "text": [
      "Proportion of women who survived is 0.742038216561 out of 314\n",
      "Proportion of men who survived is 0.188908145581 out of 577\n"
     ]
    }
   ],
   "source": [
    "# explore female and male survival rate\n",
    "# get all female / male elements\n",
    "women_only_stats = data[0::, 4] == 'female'\n",
    "men_only_stats = data[0::, 4] != 'female'\n",
    "\n",
    "women_onboard = data[women_only_stats, 1].astype(np.float)\n",
    "men_onboard = data[men_only_stats, 1].astype(np.float)\n",
    "\n",
    "proportion_women_survived = np.sum(women_onboard) / np.size(women_onboard)\n",
    "proportion_men_survived = np.sum(men_onboard) / np.size(men_onboard)\n",
    "\n",
    "print 'Proportion of women who survived is {} out of {}'.format(proportion_women_survived, np.size(women_onboard))\n",
    "print 'Proportion of men who survived is {} out of {}'.format(proportion_men_survived, np.size(men_onboard))"
   ]
  },
  {
   "cell_type": "code",
   "execution_count": 4,
   "metadata": {
    "collapsed": true
   },
   "outputs": [],
   "source": [
    "test_file = open('../csv/test.csv', 'rb')\n",
    "test_file_object = csv.reader(test_file)\n",
    "header = test_file_object.next()\n",
    "\n",
    "test_prediction_file = open('test_genderbasemodel.csv', 'wb')\n",
    "test_prediction_file_object = csv.writer(test_prediction_file)\n",
    "\n",
    "test_prediction_file_object.writerow([\"PassengerID\", \"Survived\"])\n",
    "for row in test_file_object:\n",
    "    if row[3] == 'female':\n",
    "        test_prediction_file_object.writerow([row[0], 1])\n",
    "    else:\n",
    "        test_prediction_file_object.writerow([row[0], 0])\n",
    "        \n",
    "test_file.close()\n",
    "test_prediction_file.close()"
   ]
  },
  {
   "cell_type": "code",
   "execution_count": 12,
   "metadata": {
    "collapsed": false
   },
   "outputs": [],
   "source": [
    "#print data[0]\n",
    "# explore modeling the outcome on class, gender, and ticket price\n",
    "fare_ceiling = 40\n",
    "data[data[0::, 9].astype(np.float) > fare_ceiling, 9] = fare_ceiling - 1.0\n",
    "fare_bracket_size = 10\n",
    "number_of_price_brackets = fare_ceiling / fare_bracket_size\n",
    "\n",
    "number_of_classes = len(np.unique(data[0::, 2]))\n",
    "\n",
    "# initialize survival table with zeros\n",
    "survival_table = np.zeros((2, number_of_classes, number_of_price_brackets))\n",
    "\n",
    "for i in xrange(number_of_classes):\n",
    "    for j in xrange(number_of_price_brackets):\n",
    "        women_only_stats = data[(data[0::,4] == 'female') & (data[0::,2].astype(np.float) == i+1) & \\\n",
    "                                (data[0::, 9].astype(np.float) >= j*fare_bracket_size) & \\\n",
    "                                (data[0::, 9].astype(np.float) < (j+1)*fare_bracket_size), 1]\n",
    "        men_only_stats = data[(data[0::,4] != 'female') & (data[0::,2].astype(np.float) == i+1) & \\\n",
    "                                (data[0::, 9].astype(np.float) >= j*fare_bracket_size) & \\\n",
    "                                (data[0::, 9].astype(np.float) < (j+1)*fare_bracket_size), 1]\n",
    "        \n"
   ]
  },
  {
   "cell_type": "code",
   "execution_count": null,
   "metadata": {
    "collapsed": true
   },
   "outputs": [],
   "source": [
    "#####################################\n",
    "#          Report findings          #\n",
    "#####################################"
   ]
  }
 ],
 "metadata": {
  "anaconda-cloud": {},
  "kernelspec": {
   "display_name": "Python [default]",
   "language": "python",
   "name": "python2"
  },
  "language_info": {
   "codemirror_mode": {
    "name": "ipython",
    "version": 2
   },
   "file_extension": ".py",
   "mimetype": "text/x-python",
   "name": "python",
   "nbconvert_exporter": "python",
   "pygments_lexer": "ipython2",
   "version": "2.7.12"
  }
 },
 "nbformat": 4,
 "nbformat_minor": 1
}
