{
 "cells": [
  {
   "cell_type": "code",
   "execution_count": null,
   "metadata": {
    "collapsed": true
   },
   "outputs": [],
   "source": [
    "#####################################\n",
    "#   Dataset - Titanic Data          #\n",
    "#####################################\n",
    "\n",
    "# Titanic Data - Contains demographics and passenger information from 891 of the 2224 passengers and crew on board \n",
    "# the Titanic. "
   ]
  },
  {
   "cell_type": "code",
   "execution_count": null,
   "metadata": {
    "collapsed": true
   },
   "outputs": [],
   "source": []
  },
  {
   "cell_type": "code",
   "execution_count": null,
   "metadata": {
    "collapsed": true
   },
   "outputs": [],
   "source": [
    "#####################################\n",
    "#            Questions              #\n",
    "#####################################\n",
    "# Are the following factors significiant to survival? sex, pclass, age, sibsp, parch, fare, cabin?\n"
   ]
  },
  {
   "cell_type": "code",
   "execution_count": null,
   "metadata": {
    "collapsed": true
   },
   "outputs": [],
   "source": []
  },
  {
   "cell_type": "code",
   "execution_count": null,
   "metadata": {
    "collapsed": true
   },
   "outputs": [],
   "source": [
    "#####################################\n",
    "#          Analysize Data           #\n",
    "#####################################"
   ]
  },
  {
   "cell_type": "code",
   "execution_count": 2,
   "metadata": {
    "collapsed": false
   },
   "outputs": [
    {
     "name": "stdout",
     "output_type": "stream",
     "text": [
      "0.383838383838\n"
     ]
    }
   ],
   "source": [
    "import csv as csv\n",
    "import numpy as np\n",
    "\n",
    "csv_file_object = csv.reader(open('../csv/train.csv', 'rb')) \n",
    "header = csv_file_object.next()\n",
    "\n",
    "data = []\n",
    "for row in csv_file_object:\n",
    "    data.append(row)\n",
    "    \n",
    "data = np.array(data)\n",
    "\n",
    "number_passengers = np.size(data[0::, 1].astype(np.float))\n",
    "number_survived = np.sum(data[0::, 1].astype(np.float))\n",
    "proportion_survivors = number_survived / number_passengers\n",
    "print proportion_survivors\n",
    "\n"
   ]
  },
  {
   "cell_type": "code",
   "execution_count": 3,
   "metadata": {
    "collapsed": false
   },
   "outputs": [
    {
     "name": "stdout",
     "output_type": "stream",
     "text": [
      "Proportion of women who survived is 0.742038216561 out of 314\n",
      "Proportion of men who survived is 0.188908145581 out of 577\n"
     ]
    }
   ],
   "source": [
    "# explore female and male survival rate\n",
    "# get all female / male elements\n",
    "women_only_stats = data[0::, 4] == 'female'\n",
    "men_only_stats = data[0::, 4] != 'female'\n",
    "\n",
    "women_onboard = data[women_only_stats, 1].astype(np.float)\n",
    "men_onboard = data[men_only_stats, 1].astype(np.float)\n",
    "\n",
    "proportion_women_survived = np.sum(women_onboard) / np.size(women_onboard)\n",
    "proportion_men_survived = np.sum(men_onboard) / np.size(men_onboard)\n",
    "\n",
    "print 'Proportion of women who survived is {} out of {}'.format(proportion_women_survived, np.size(women_onboard))\n",
    "print 'Proportion of men who survived is {} out of {}'.format(proportion_men_survived, np.size(men_onboard))"
   ]
  },
  {
   "cell_type": "code",
   "execution_count": 4,
   "metadata": {
    "collapsed": true
   },
   "outputs": [],
   "source": [
    "test_file = open('../csv/test.csv', 'rb')\n",
    "test_file_object = csv.reader(test_file)\n",
    "header = test_file_object.next()\n",
    "\n",
    "test_prediction_file = open('test_genderbasemodel.csv', 'wb')\n",
    "test_prediction_file_object = csv.writer(test_prediction_file)\n",
    "\n",
    "test_prediction_file_object.writerow([\"PassengerID\", \"Survived\"])\n",
    "for row in test_file_object:\n",
    "    if row[3] == 'female':\n",
    "        test_prediction_file_object.writerow([row[0], 1])\n",
    "    else:\n",
    "        test_prediction_file_object.writerow([row[0], 0])\n",
    "        \n",
    "test_file.close()\n",
    "test_prediction_file.close()"
   ]
  },
  {
   "cell_type": "code",
   "execution_count": 40,
   "metadata": {
    "collapsed": false
   },
   "outputs": [
    {
     "name": "stdout",
     "output_type": "stream",
     "text": [
      "[[[ 0.     0.     0.     0.   ]\n",
      "  [ 0.     0.     0.     0.   ]\n",
      "  [ 0.     0.     0.     0.125]]\n",
      "\n",
      " [[ 0.     0.     0.     0.   ]\n",
      "  [ 0.     0.     0.     0.   ]\n",
      "  [ 0.     0.     0.     0.24 ]]]\n",
      "[[[ 0.  0.  0.  0.]\n",
      "  [ 0.  0.  0.  0.]\n",
      "  [ 0.  0.  0.  0.]]\n",
      "\n",
      " [[ 0.  0.  0.  0.]\n",
      "  [ 0.  0.  0.  0.]\n",
      "  [ 0.  0.  0.  0.]]]\n"
     ]
    }
   ],
   "source": [
    "#print data[0]\n",
    "# explore modeling the outcome on class, gender, and ticket price\n",
    "fare_ceiling = 40\n",
    "data[data[0::, 9].astype(np.float) >= fare_ceiling, 9] = fare_ceiling - 1.0\n",
    "fare_bracket_size = 10\n",
    "number_of_price_brackets = fare_ceiling / fare_bracket_size\n",
    "\n",
    "number_of_classes = len(np.unique(data[0::, 2]))\n",
    "\n",
    "#print number_of_price_brackets\n",
    "#print number_of_classes\n",
    "\n",
    "# initialize survival table with zeros\n",
    "survival_table = np.zeros((2, number_of_classes, number_of_price_brackets))\n",
    "\n",
    "for i in xrange(number_of_classes):\n",
    "    for j in xrange(number_of_price_brackets):\n",
    "        women_only_stats = data[(data[0::,4] == 'female') & (data[0::,2].astype(np.float) == i+1) & \\\n",
    "                                (data[0:, 9].astype(np.float) >= j*fare_bracket_size) & \\\n",
    "                                (data[0:, 9].astype(np.float) < (j+1)*fare_bracket_size), 1]\n",
    "\n",
    "        \n",
    "        men_only_stats = data[(data[0::,4] != 'female') & (data[0::,2].astype(np.float) == i+1) & \\\n",
    "                                (data[0:, 9].astype(np.float) >= j*fare_bracket_size) & \\\n",
    "                                (data[0:, 9].astype(np.float) < (j+1)*fare_bracket_size), 1]\n",
    "        \n",
    "survival_table[0, i, j] = np.mean(women_only_stats.astype(np.float))\n",
    "survival_table[1, i, j] = np.mean(men_only_stats.astype(np.float))\n",
    "\n",
    "survival_table[ survival_table != survival_table] = 0.\n",
    "print survival_table\n",
    "\n",
    "survival_table[survival_table < 0.5] = 0\n",
    "survival_table[survival_table >= 0.5] = 1\n",
    "# print survival_table\n",
    "\n"
   ]
  },
  {
   "cell_type": "code",
   "execution_count": 39,
   "metadata": {
    "collapsed": false
   },
   "outputs": [
    {
     "name": "stdout",
     "output_type": "stream",
     "text": [
      "[[[ 0.          0.          0.          0.97727273]\n",
      "  [ 0.          0.          0.          1.        ]\n",
      "  [ 0.          0.          0.          0.125     ]]\n",
      "\n",
      " [[ 0.          0.          0.          0.38372093]\n",
      "  [ 0.          0.          0.          0.21428571]\n",
      "  [ 0.          0.          0.          0.24      ]]]\n"
     ]
    }
   ],
   "source": [
    "# So we add a ceiling\n",
    "fare_ceiling = 40\n",
    "# then modify the data in the Fare column to = 39, if it is greater or equal to the ceiling\n",
    "data[ data[0::,9].astype(np.float) >= fare_ceiling, 9 ] = fare_ceiling - 1.0\n",
    "\n",
    "fare_bracket_size = 10\n",
    "number_of_price_brackets = fare_ceiling / fare_bracket_size\n",
    "\n",
    "# I know there were 1st, 2nd and 3rd classes on board\n",
    "number_of_classes = 3\n",
    "\n",
    "# But it's better practice to calculate this from the data directly\n",
    "# Take the length of an array of unique values in column index 2\n",
    "number_of_classes = len(np.unique(data[0::,2])) \n",
    "\n",
    "# Initialize the survival table with all zeros\n",
    "survival_table = np.zeros((2, number_of_classes, number_of_price_brackets))\n",
    "\n",
    "for i in xrange(number_of_classes):       #loop through each class\n",
    "  for j in xrange(number_of_price_brackets):   #loop through each price bin\n",
    "\n",
    "    women_only_stats = data[(data[0::,4] == \"female\")&(data[0::,2].astype(np.float)== i+1) \\\n",
    "                            & (data[0:,9].astype(np.float) >= j*fare_bracket_size) \\\n",
    "                            &(data[0:,9].astype(np.float) < (j+1)*fare_bracket_size), 1]                                                   \n",
    "\n",
    "    men_only_stats = data[(data[0::,4] != \"female\")&(data[0::,2].astype(np.float)== i+1) \\\n",
    "                          & (data[0:,9].astype(np.float)>= j*fare_bracket_size) \\\n",
    "                          &(data[0:,9].astype(np.float)< (j+1)*fare_bracket_size), 1] \n",
    "    \n",
    "  survival_table[0,i,j] = np.mean(women_only_stats.astype(np.float)) \n",
    "  survival_table[1,i,j] = np.mean(men_only_stats.astype(np.float))\n",
    "    \n",
    "survival_table[ survival_table != survival_table ] = 0.\n",
    "\n",
    "print survival_table\n",
    "\n",
    "survival_table[ survival_table < 0.5 ] = 0\n",
    "survival_table[ survival_table >= 0.5 ] = 1 \n",
    "\n",
    "print survial_table\n",
    "\n",
    "test_file = open('../csv/test.csv', 'rb')\n",
    "test_file_object = csv.reader(test_file)\n",
    "header = test_file_object.next()\n",
    "predictions_file = open(\"../csv/genderclassmodel.csv\", \"wb\")\n",
    "p = csv.writer(predictions_file)\n",
    "p.writerow([\"PassengerId\", \"Survived\"])\n",
    "\n",
    "for row in test_file_object:                 # We are going to loop\n",
    "                                              # through each passenger\n",
    "                                              # in the test set                     \n",
    "  for j in xrange(number_of_price_brackets):  # For each passenger we\n",
    "                                              # loop thro each price bin\n",
    "    try:                                      # Some passengers have no\n",
    "                                              # Fare data so try to make\n",
    "      row[8] = float(row[8])                  # a float\n",
    "    except:                                   # If fails: no data, so \n",
    "      bin_fare = 3 - float(row[1])            # bin the fare according Pclass\n",
    "      break                                   # Break from the loop\n",
    "    if row[8] > fare_ceiling:              # If there is data see if\n",
    "                                              # it is greater than fare\n",
    "                                              # ceiling we set earlier\n",
    "      bin_fare = number_of_price_brackets-1   # If so set to highest bin\n",
    "      break                                   # And then break loop\n",
    "    if row[8] >= j * fare_bracket_size\\\n",
    "       and row[8] < \\\n",
    "       (j+1) * fare_bracket_size:             # If passed these tests \n",
    "                                              # then loop through each bin \n",
    "      bin_fare = j                            # then assign index\n",
    "      break \n",
    "        \n",
    "        \n",
    "    if row[3] == 'female':                             #If the passenger is female\n",
    "        p.writerow([row[0], \"%d\" % \\\n",
    "                   int(survival_table[0, float(row[1])-1, bin_fare])])\n",
    "    else:                                          #else if male\n",
    "        p.writerow([row[0], \"%d\" % \\\n",
    "                   int(survival_table[1, float(row[1])-1, bin_fare])])\n",
    "     \n",
    "# Close out the files.\n",
    "test_file.close() \n",
    "predictions_file.close()"
   ]
  },
  {
   "cell_type": "code",
   "execution_count": null,
   "metadata": {
    "collapsed": true
   },
   "outputs": [],
   "source": [
    "#####################################\n",
    "#          Report findings          #\n",
    "#####################################"
   ]
  }
 ],
 "metadata": {
  "anaconda-cloud": {},
  "kernelspec": {
   "display_name": "Python [default]",
   "language": "python",
   "name": "python2"
  },
  "language_info": {
   "codemirror_mode": {
    "name": "ipython",
    "version": 2
   },
   "file_extension": ".py",
   "mimetype": "text/x-python",
   "name": "python",
   "nbconvert_exporter": "python",
   "pygments_lexer": "ipython2",
   "version": "2.7.12"
  }
 },
 "nbformat": 4,
 "nbformat_minor": 1
}
